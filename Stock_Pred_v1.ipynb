{
  "nbformat": 4,
  "nbformat_minor": 0,
  "metadata": {
    "colab": {
      "name": "Stock_Pred_v1.ipynb",
      "provenance": [],
      "collapsed_sections": [],
      "authorship_tag": "ABX9TyM4reJU4yCUMKvNBnkVMgVf",
      "include_colab_link": true
    },
    "kernelspec": {
      "name": "python3",
      "display_name": "Python 3"
    }
  },
  "cells": [
    {
      "cell_type": "markdown",
      "metadata": {
        "id": "view-in-github",
        "colab_type": "text"
      },
      "source": [
        "<a href=\"https://colab.research.google.com/github/RittickSR/marketPredictions/blob/master/Stock_Pred_v1.ipynb\" target=\"_parent\"><img src=\"https://colab.research.google.com/assets/colab-badge.svg\" alt=\"Open In Colab\"/></a>"
      ]
    },
    {
      "cell_type": "code",
      "metadata": {
        "id": "ML9W5crvc9VA",
        "colab_type": "code",
        "colab": {}
      },
      "source": [
        "import pandas as pd\n",
        "import numpy as np\n",
        "import matplotlib as plt"
      ],
      "execution_count": null,
      "outputs": []
    },
    {
      "cell_type": "code",
      "metadata": {
        "id": "DWoc1KgZdaY8",
        "colab_type": "code",
        "colab": {}
      },
      "source": [
        "rel_data=pd.read_csv('https://raw.githubusercontent.com/RittickSR/marketPredictions/master/marketData/RELIANCE.csv')"
      ],
      "execution_count": null,
      "outputs": []
    },
    {
      "cell_type": "code",
      "metadata": {
        "id": "ifUSuZhweVDd",
        "colab_type": "code",
        "colab": {
          "base_uri": "https://localhost:8080/",
          "height": 314
        },
        "outputId": "2d3a9dd9-0621-4eac-b0b0-5acf0ea4772a"
      },
      "source": [
        "rel_data.describe()"
      ],
      "execution_count": null,
      "outputs": [
        {
          "output_type": "execute_result",
          "data": {
            "text/html": [
              "<div>\n",
              "<style scoped>\n",
              "    .dataframe tbody tr th:only-of-type {\n",
              "        vertical-align: middle;\n",
              "    }\n",
              "\n",
              "    .dataframe tbody tr th {\n",
              "        vertical-align: top;\n",
              "    }\n",
              "\n",
              "    .dataframe thead th {\n",
              "        text-align: right;\n",
              "    }\n",
              "</style>\n",
              "<table border=\"1\" class=\"dataframe\">\n",
              "  <thead>\n",
              "    <tr style=\"text-align: right;\">\n",
              "      <th></th>\n",
              "      <th>Prev Close</th>\n",
              "      <th>Open</th>\n",
              "      <th>High</th>\n",
              "      <th>Low</th>\n",
              "      <th>Last</th>\n",
              "      <th>Close</th>\n",
              "      <th>VWAP</th>\n",
              "      <th>Volume</th>\n",
              "      <th>Turnover</th>\n",
              "      <th>Trades</th>\n",
              "      <th>Deliverable Volume</th>\n",
              "      <th>%Deliverble</th>\n",
              "    </tr>\n",
              "  </thead>\n",
              "  <tbody>\n",
              "    <tr>\n",
              "      <th>count</th>\n",
              "      <td>5097.000000</td>\n",
              "      <td>5097.000000</td>\n",
              "      <td>5097.000000</td>\n",
              "      <td>5097.000000</td>\n",
              "      <td>5097.000000</td>\n",
              "      <td>5097.000000</td>\n",
              "      <td>5097.000000</td>\n",
              "      <td>5.097000e+03</td>\n",
              "      <td>5.097000e+03</td>\n",
              "      <td>2.247000e+03</td>\n",
              "      <td>4.583000e+03</td>\n",
              "      <td>4583.000000</td>\n",
              "    </tr>\n",
              "    <tr>\n",
              "      <th>mean</th>\n",
              "      <td>968.800824</td>\n",
              "      <td>970.235894</td>\n",
              "      <td>984.038817</td>\n",
              "      <td>955.105081</td>\n",
              "      <td>968.906092</td>\n",
              "      <td>969.089435</td>\n",
              "      <td>969.631030</td>\n",
              "      <td>5.186155e+06</td>\n",
              "      <td>5.047001e+14</td>\n",
              "      <td>1.243892e+05</td>\n",
              "      <td>2.179294e+06</td>\n",
              "      <td>0.440426</td>\n",
              "    </tr>\n",
              "    <tr>\n",
              "      <th>std</th>\n",
              "      <td>541.854956</td>\n",
              "      <td>543.235347</td>\n",
              "      <td>552.724884</td>\n",
              "      <td>531.387342</td>\n",
              "      <td>541.689022</td>\n",
              "      <td>541.854759</td>\n",
              "      <td>541.885341</td>\n",
              "      <td>4.267713e+06</td>\n",
              "      <td>5.510347e+14</td>\n",
              "      <td>9.884481e+04</td>\n",
              "      <td>1.796170e+06</td>\n",
              "      <td>0.144242</td>\n",
              "    </tr>\n",
              "    <tr>\n",
              "      <th>min</th>\n",
              "      <td>203.200000</td>\n",
              "      <td>205.500000</td>\n",
              "      <td>219.500000</td>\n",
              "      <td>197.150000</td>\n",
              "      <td>203.300000</td>\n",
              "      <td>203.200000</td>\n",
              "      <td>212.290000</td>\n",
              "      <td>5.282000e+04</td>\n",
              "      <td>4.295543e+12</td>\n",
              "      <td>2.991000e+03</td>\n",
              "      <td>2.909700e+04</td>\n",
              "      <td>0.076300</td>\n",
              "    </tr>\n",
              "    <tr>\n",
              "      <th>25%</th>\n",
              "      <td>552.750000</td>\n",
              "      <td>555.000000</td>\n",
              "      <td>564.300000</td>\n",
              "      <td>545.600000</td>\n",
              "      <td>552.650000</td>\n",
              "      <td>552.950000</td>\n",
              "      <td>552.640000</td>\n",
              "      <td>2.784741e+06</td>\n",
              "      <td>2.145437e+14</td>\n",
              "      <td>7.000400e+04</td>\n",
              "      <td>1.164656e+06</td>\n",
              "      <td>0.329200</td>\n",
              "    </tr>\n",
              "    <tr>\n",
              "      <th>50%</th>\n",
              "      <td>921.000000</td>\n",
              "      <td>922.100000</td>\n",
              "      <td>932.500000</td>\n",
              "      <td>911.300000</td>\n",
              "      <td>920.450000</td>\n",
              "      <td>921.000000</td>\n",
              "      <td>922.390000</td>\n",
              "      <td>4.096597e+06</td>\n",
              "      <td>3.529453e+14</td>\n",
              "      <td>9.606200e+04</td>\n",
              "      <td>1.751404e+06</td>\n",
              "      <td>0.456400</td>\n",
              "    </tr>\n",
              "    <tr>\n",
              "      <th>75%</th>\n",
              "      <td>1151.400000</td>\n",
              "      <td>1151.250000</td>\n",
              "      <td>1174.700000</td>\n",
              "      <td>1128.000000</td>\n",
              "      <td>1152.000000</td>\n",
              "      <td>1152.300000</td>\n",
              "      <td>1148.050000</td>\n",
              "      <td>6.245328e+06</td>\n",
              "      <td>6.133209e+14</td>\n",
              "      <td>1.439110e+05</td>\n",
              "      <td>2.604270e+06</td>\n",
              "      <td>0.548000</td>\n",
              "    </tr>\n",
              "    <tr>\n",
              "      <th>max</th>\n",
              "      <td>3220.850000</td>\n",
              "      <td>3298.000000</td>\n",
              "      <td>3298.000000</td>\n",
              "      <td>3141.300000</td>\n",
              "      <td>3223.000000</td>\n",
              "      <td>3220.850000</td>\n",
              "      <td>3197.750000</td>\n",
              "      <td>6.523089e+07</td>\n",
              "      <td>8.835030e+15</td>\n",
              "      <td>1.194059e+06</td>\n",
              "      <td>3.495888e+07</td>\n",
              "      <td>0.978300</td>\n",
              "    </tr>\n",
              "  </tbody>\n",
              "</table>\n",
              "</div>"
            ],
            "text/plain": [
              "        Prev Close         Open  ...  Deliverable Volume  %Deliverble\n",
              "count  5097.000000  5097.000000  ...        4.583000e+03  4583.000000\n",
              "mean    968.800824   970.235894  ...        2.179294e+06     0.440426\n",
              "std     541.854956   543.235347  ...        1.796170e+06     0.144242\n",
              "min     203.200000   205.500000  ...        2.909700e+04     0.076300\n",
              "25%     552.750000   555.000000  ...        1.164656e+06     0.329200\n",
              "50%     921.000000   922.100000  ...        1.751404e+06     0.456400\n",
              "75%    1151.400000  1151.250000  ...        2.604270e+06     0.548000\n",
              "max    3220.850000  3298.000000  ...        3.495888e+07     0.978300\n",
              "\n",
              "[8 rows x 12 columns]"
            ]
          },
          "metadata": {
            "tags": []
          },
          "execution_count": 4
        }
      ]
    },
    {
      "cell_type": "markdown",
      "metadata": {
        "id": "lhvr2vR6YO0q",
        "colab_type": "text"
      },
      "source": [
        "# EXPLANATION OF STATS\n",
        "\n",
        "**Prev close:** It gives the previous day's closing price\n",
        "\n",
        "**Open:** Price of stock when first traded on that day.\n",
        "\n",
        "**High:** Highest Price for given day\n",
        "\n",
        "**Low:** Lowest price for given day\n",
        "\n",
        "**Last:** Price at which last trade occured\n",
        "\n",
        "**Close:** It is the final price at which it trades during regular market hours on any given day. The closing price is considered the most accurate valuation of a stock or other security until trading resumes on the next trading day.\n",
        "\n",
        "Difference between **Last Trading Price** **(LTP)** and **Closing Price** is that **LTP is the price of the last trade** at any given time and** Closing price is the volume weighted average of all the trades that were done during the last half an hour** of the trading session i.e between 3 pm to 3.30 pm. \n",
        "\n",
        "Eg: If 1000 shares of SBI are traded at 276,500 shares at 277 and 1200 shares at 275 during the last half on hour on NSE,then the closing price would be\n",
        "(276000+138500+330000)/2700=275.75(adjusted to the nearest paisa)\n",
        "\n",
        "**VWAP:** Volume Weighted Average Price (VWAP) is given by ­­Σ(Price*Volume)/ΣVolume. It is better to buy below VWAP and sell above it. It is not needed for prediction as such but is required for assesment.\n",
        "\n",
        "**Volume:** Amount of stock traded during the day.\n",
        "\n",
        "**Share turnover:** It is a measure of stock liquidity calculated by dividing the total number of shares traded over a period by the average number of shares outstanding for the period. Investors may be unwilling to put their money at risk by acquiring the shares of a company with low share turnover\n",
        "\n",
        "**Trades:** Number of trads conducted in the day\n",
        "\n",
        "**Deliverable Shares:** The quantity of shares that actually \"changed hands\" in the period of the day in question.\n",
        "\n",
        "**%Deliverable:** The % of shares out of the total outtstanding shares which \"changed hands\" "
      ]
    },
    {
      "cell_type": "code",
      "metadata": {
        "id": "_islC2oWesfP",
        "colab_type": "code",
        "colab": {
          "base_uri": "https://localhost:8080/",
          "height": 204
        },
        "outputId": "01997676-91c7-450a-ea74-ddf3f68ac2f3"
      },
      "source": [
        "rel_data.head()"
      ],
      "execution_count": null,
      "outputs": [
        {
          "output_type": "execute_result",
          "data": {
            "text/html": [
              "<div>\n",
              "<style scoped>\n",
              "    .dataframe tbody tr th:only-of-type {\n",
              "        vertical-align: middle;\n",
              "    }\n",
              "\n",
              "    .dataframe tbody tr th {\n",
              "        vertical-align: top;\n",
              "    }\n",
              "\n",
              "    .dataframe thead th {\n",
              "        text-align: right;\n",
              "    }\n",
              "</style>\n",
              "<table border=\"1\" class=\"dataframe\">\n",
              "  <thead>\n",
              "    <tr style=\"text-align: right;\">\n",
              "      <th></th>\n",
              "      <th>Date</th>\n",
              "      <th>Symbol</th>\n",
              "      <th>Series</th>\n",
              "      <th>Prev Close</th>\n",
              "      <th>Open</th>\n",
              "      <th>High</th>\n",
              "      <th>Low</th>\n",
              "      <th>Last</th>\n",
              "      <th>Close</th>\n",
              "      <th>VWAP</th>\n",
              "      <th>Volume</th>\n",
              "      <th>Turnover</th>\n",
              "      <th>Trades</th>\n",
              "      <th>Deliverable Volume</th>\n",
              "      <th>%Deliverble</th>\n",
              "    </tr>\n",
              "  </thead>\n",
              "  <tbody>\n",
              "    <tr>\n",
              "      <th>0</th>\n",
              "      <td>2000-01-03</td>\n",
              "      <td>RELIANCE</td>\n",
              "      <td>EQ</td>\n",
              "      <td>233.05</td>\n",
              "      <td>237.50</td>\n",
              "      <td>251.70</td>\n",
              "      <td>237.50</td>\n",
              "      <td>251.70</td>\n",
              "      <td>251.70</td>\n",
              "      <td>249.37</td>\n",
              "      <td>4456424</td>\n",
              "      <td>1.111319e+14</td>\n",
              "      <td>NaN</td>\n",
              "      <td>NaN</td>\n",
              "      <td>NaN</td>\n",
              "    </tr>\n",
              "    <tr>\n",
              "      <th>1</th>\n",
              "      <td>2000-01-04</td>\n",
              "      <td>RELIANCE</td>\n",
              "      <td>EQ</td>\n",
              "      <td>251.70</td>\n",
              "      <td>258.40</td>\n",
              "      <td>271.85</td>\n",
              "      <td>251.30</td>\n",
              "      <td>271.85</td>\n",
              "      <td>271.85</td>\n",
              "      <td>263.52</td>\n",
              "      <td>9487878</td>\n",
              "      <td>2.500222e+14</td>\n",
              "      <td>NaN</td>\n",
              "      <td>NaN</td>\n",
              "      <td>NaN</td>\n",
              "    </tr>\n",
              "    <tr>\n",
              "      <th>2</th>\n",
              "      <td>2000-01-05</td>\n",
              "      <td>RELIANCE</td>\n",
              "      <td>EQ</td>\n",
              "      <td>271.85</td>\n",
              "      <td>256.65</td>\n",
              "      <td>287.90</td>\n",
              "      <td>256.65</td>\n",
              "      <td>286.75</td>\n",
              "      <td>282.50</td>\n",
              "      <td>274.79</td>\n",
              "      <td>26833684</td>\n",
              "      <td>7.373697e+14</td>\n",
              "      <td>NaN</td>\n",
              "      <td>NaN</td>\n",
              "      <td>NaN</td>\n",
              "    </tr>\n",
              "    <tr>\n",
              "      <th>3</th>\n",
              "      <td>2000-01-06</td>\n",
              "      <td>RELIANCE</td>\n",
              "      <td>EQ</td>\n",
              "      <td>282.50</td>\n",
              "      <td>289.00</td>\n",
              "      <td>300.70</td>\n",
              "      <td>289.00</td>\n",
              "      <td>293.50</td>\n",
              "      <td>294.35</td>\n",
              "      <td>295.45</td>\n",
              "      <td>15682286</td>\n",
              "      <td>4.633254e+14</td>\n",
              "      <td>NaN</td>\n",
              "      <td>NaN</td>\n",
              "      <td>NaN</td>\n",
              "    </tr>\n",
              "    <tr>\n",
              "      <th>4</th>\n",
              "      <td>2000-01-07</td>\n",
              "      <td>RELIANCE</td>\n",
              "      <td>EQ</td>\n",
              "      <td>294.35</td>\n",
              "      <td>295.00</td>\n",
              "      <td>317.90</td>\n",
              "      <td>293.00</td>\n",
              "      <td>314.50</td>\n",
              "      <td>314.55</td>\n",
              "      <td>308.91</td>\n",
              "      <td>19870977</td>\n",
              "      <td>6.138388e+14</td>\n",
              "      <td>NaN</td>\n",
              "      <td>NaN</td>\n",
              "      <td>NaN</td>\n",
              "    </tr>\n",
              "  </tbody>\n",
              "</table>\n",
              "</div>"
            ],
            "text/plain": [
              "         Date    Symbol Series  ...  Trades  Deliverable Volume  %Deliverble\n",
              "0  2000-01-03  RELIANCE     EQ  ...     NaN                 NaN          NaN\n",
              "1  2000-01-04  RELIANCE     EQ  ...     NaN                 NaN          NaN\n",
              "2  2000-01-05  RELIANCE     EQ  ...     NaN                 NaN          NaN\n",
              "3  2000-01-06  RELIANCE     EQ  ...     NaN                 NaN          NaN\n",
              "4  2000-01-07  RELIANCE     EQ  ...     NaN                 NaN          NaN\n",
              "\n",
              "[5 rows x 15 columns]"
            ]
          },
          "metadata": {
            "tags": []
          },
          "execution_count": 5
        }
      ]
    },
    {
      "cell_type": "code",
      "metadata": {
        "id": "NEvVxCzhew-z",
        "colab_type": "code",
        "colab": {
          "base_uri": "https://localhost:8080/",
          "height": 820
        },
        "outputId": "a2641ccd-c407-4666-ec33-aa860eb579d0"
      },
      "source": [
        "rel_data.plot(x='Date',y='High',kind='line')\n",
        "rel_data.plot(x='Date',y='Open',kind='line')\n",
        "rel_data.plot(x='Date',y='Close',kind='line')"
      ],
      "execution_count": null,
      "outputs": [
        {
          "output_type": "execute_result",
          "data": {
            "text/plain": [
              "<matplotlib.axes._subplots.AxesSubplot at 0x7f07ecc5f860>"
            ]
          },
          "metadata": {
            "tags": []
          },
          "execution_count": 6
        },
        {
          "output_type": "display_data",
          "data": {
            "image/png": "[encoded data removed]",
            "text/plain": [
              "<Figure size 432x288 with 1 Axes>"
            ]
          },
          "metadata": {
            "tags": [],
            "needs_background": "light"
          }
        },
        {
          "output_type": "display_data",
          "data": {
            "image/png": "[encoded data removed]",
            "text/plain": [
              "<Figure size 432x288 with 1 Axes>"
            ]
          },
          "metadata": {
            "tags": [],
            "needs_background": "light"
          }
        },
        {
          "output_type": "display_data",
          "data": {
            "image/png": "[encoded data removed]",
            "text/plain": [
              "<Figure size 432x288 with 1 Axes>"
            ]
          },
          "metadata": {
            "tags": [],
            "needs_background": "light"
          }
        }
      ]
    },
    {
      "cell_type": "markdown",
      "metadata": {
        "id": "PvES8nAXfopD",
        "colab_type": "text"
      },
      "source": [
        "As we can see from the above graph the Reliance share hit an all time high around December of 2007. Checking headlines from the same timeperiod we get the following:\n",
        "(All screenshots were taken from capitalmarketplus website)\n",
        "[Net Profit Rise](https://drive.google.com/file/d/1lc9_r33PSREHMQsdiMjjMHGNZAFiLXIu/view?usp=sharing)\n",
        "But then on the 11th of december the following news is announced:\n",
        "[Reliance signs contract in Colombia](https://drive.google.com/file/d/1SXLdOHEfLfJOIAc4k-18P7t1akAUDqbh/view?usp=sharing)\n",
        "Which leads to the sudden fall after the peak that can be seen and is further confirmed by the following article\n",
        "[Sudden descrease in stock prices](https://drive.google.com/file/d/1vIUnUuP2okMKoUaRIQ-LSzfSrhYGyXxj/view?usp=sharing)\n"
      ]
    },
    {
      "cell_type": "markdown",
      "metadata": {
        "id": "cQDVJq0gAI9s",
        "colab_type": "text"
      },
      "source": [
        "**Looking at the above graph a simple regression model should be good enough to deal with the data based just on historical stock open and close prices**"
      ]
    },
    {
      "cell_type": "code",
      "metadata": {
        "id": "8UpSjx-Fh4mN",
        "colab_type": "code",
        "colab": {}
      },
      "source": [
        "#This line is used to change 'Prev Close' to 'Prev_Close' so that we can access it as it would give error with space\n",
        "rel_data.columns = [c.replace(' ', '_') for c in rel_data.columns]"
      ],
      "execution_count": null,
      "outputs": []
    },
    {
      "cell_type": "markdown",
      "metadata": {
        "id": "taAgt0BCdBKM",
        "colab_type": "text"
      },
      "source": [
        "Since our data to be used for prediction all lie in the hundreds hence we do not need to normalize them as all our independent variables lie in the same value range."
      ]
    },
    {
      "cell_type": "markdown",
      "metadata": {
        "id": "U22oFg8fldKM",
        "colab_type": "text"
      },
      "source": [
        "**NOTE**: We will only use Open and Previous Close value of the share in question because these are the only values which will be avalible to us at the start of the trading day. Values such as High or Low isnt known at the start as well as Close and Volume of value traded.\n",
        "\n"
      ]
    },
    {
      "cell_type": "code",
      "metadata": {
        "id": "KkIdGmPXdP2j",
        "colab_type": "code",
        "colab": {}
      },
      "source": [
        "from sklearn.model_selection import train_test_split\n",
        "x_data=rel_data[['Open','Prev_Close']]\n",
        "y_data=rel_data['VWAP']\n",
        "x_train,x_test,y_train,y_test=train_test_split(x_data,y_data,test_size=0.2,shuffle=True) "
      ],
      "execution_count": null,
      "outputs": []
    },
    {
      "cell_type": "code",
      "metadata": {
        "id": "I0JGeY81h-YS",
        "colab_type": "code",
        "colab": {
          "base_uri": "https://localhost:8080/",
          "height": 85
        },
        "outputId": "15b1f199-d29f-484f-e5d8-f21dbd444a69"
      },
      "source": [
        "print(x_train.shape)\n",
        "print(x_test.shape)\n",
        "print(y_train.shape)\n",
        "print(y_test.shape)"
      ],
      "execution_count": null,
      "outputs": [
        {
          "output_type": "stream",
          "text": [
            "(4077, 2)\n",
            "(1020, 2)\n",
            "(4077,)\n",
            "(1020,)\n"
          ],
          "name": "stdout"
        }
      ]
    },
    {
      "cell_type": "code",
      "metadata": {
        "id": "XDod-NDNjGE7",
        "colab_type": "code",
        "colab": {
          "base_uri": "https://localhost:8080/",
          "height": 34
        },
        "outputId": "5d8142ce-f6b5-437b-89db-cb44276d0801"
      },
      "source": [
        "from sklearn.linear_model import LinearRegression\n",
        "model=LinearRegression()\n",
        "model.fit(x_train,y_train)"
      ],
      "execution_count": null,
      "outputs": [
        {
          "output_type": "execute_result",
          "data": {
            "text/plain": [
              "LinearRegression(copy_X=True, fit_intercept=True, n_jobs=None, normalize=False)"
            ]
          },
          "metadata": {
            "tags": []
          },
          "execution_count": 25
        }
      ]
    },
    {
      "cell_type": "code",
      "metadata": {
        "id": "kQXYq7TwkL4o",
        "colab_type": "code",
        "colab": {}
      },
      "source": [
        "y_pred=model.predict(x_test)"
      ],
      "execution_count": null,
      "outputs": []
    },
    {
      "cell_type": "code",
      "metadata": {
        "id": "uGVponCNkUbD",
        "colab_type": "code",
        "colab": {}
      },
      "source": [
        "from sklearn.metrics import mean_squared_error\n",
        "from math import sqrt"
      ],
      "execution_count": null,
      "outputs": []
    },
    {
      "cell_type": "code",
      "metadata": {
        "id": "TSyCBfUZkbk3",
        "colab_type": "code",
        "colab": {}
      },
      "source": [
        "rmse=sqrt(mean_squared_error(y_test,y_pred))"
      ],
      "execution_count": null,
      "outputs": []
    },
    {
      "cell_type": "code",
      "metadata": {
        "id": "ZJ4Q5adzkngB",
        "colab_type": "code",
        "colab": {
          "base_uri": "https://localhost:8080/",
          "height": 34
        },
        "outputId": "b47b8902-81ad-4027-f1f7-4104ce172531"
      },
      "source": [
        "print(\"RMSE is :\",rmse)"
      ],
      "execution_count": null,
      "outputs": [
        {
          "output_type": "stream",
          "text": [
            "RMSE is : 23.70100598712896\n"
          ],
          "name": "stdout"
        }
      ]
    },
    {
      "cell_type": "markdown",
      "metadata": {
        "id": "crNP-Xe0ksna",
        "colab_type": "text"
      },
      "source": [
        "**NOTE**: The RMSE value is given by square root of the mean squared error hence it depends on the scale of the predictions and test data. So in our example an RMSE of 23.70100 represents an error of ₹23 on the VWAP value of the reliance share in question. Our model is now ready to make predictions based on the 'Open' and the 'Prev Close' value which will be avalible to us at the start of the trading day."
      ]
    },
    {
      "cell_type": "code",
      "metadata": {
        "id": "zu65NM99l5mC",
        "colab_type": "code",
        "colab": {}
      },
      "source": [
        "def buy_or_sell(op,prev,buy_price):\n",
        "  ip=[[op,prev]]\n",
        "  ch=model.predict(ip)\n",
        "  print(\"VWAP is :\",ch)\n",
        "  if(ch<buy_price):\n",
        "    print(\"HOLD!!\")\n",
        "  else:\n",
        "    print(\"SELL\")"
      ],
      "execution_count": null,
      "outputs": []
    },
    {
      "cell_type": "code",
      "metadata": {
        "id": "p5AJQvqHmj59",
        "colab_type": "code",
        "colab": {
          "base_uri": "https://localhost:8080/",
          "height": 51
        },
        "outputId": "68981df8-6fbd-4abf-a8a5-4c3ee9277c5f"
      },
      "source": [
        "buy_or_sell(1845,1843,1775)"
      ],
      "execution_count": null,
      "outputs": [
        {
          "output_type": "stream",
          "text": [
            "VWAP is : [1843.24464141]\n",
            "SELL\n"
          ],
          "name": "stdout"
        }
      ]
    },
    {
      "cell_type": "markdown",
      "metadata": {
        "id": "Li2Lexx8ncWR",
        "colab_type": "text"
      },
      "source": [
        "Today's data is being used above an on doing a bit of googling we can see that today's VWAP was 1878.38 which is approx ₹35 off from our prediction. Hence the model will work fine on a macro level but for a micro level a more sopisticated model will be needed."
      ]
    }
  ]
}