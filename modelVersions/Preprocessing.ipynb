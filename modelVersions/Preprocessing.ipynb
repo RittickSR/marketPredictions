{
  "nbformat": 4,
  "nbformat_minor": 0,
  "metadata": {
    "colab": {
      "name": "Preprocessing.ipynb",
      "provenance": [],
      "collapsed_sections": [],
      "toc_visible": true,
      "authorship_tag": "ABX9TyOibRqycuP/ZLNoysq4UASI",
      "include_colab_link": true
    },
    "kernelspec": {
      "name": "python3",
      "display_name": "Python 3"
    }
  },
  "cells": [
    {
      "cell_type": "markdown",
      "metadata": {
        "id": "view-in-github",
        "colab_type": "text"
      },
      "source": [
        "<a href=\"https://colab.research.google.com/github/RittickSR/marketPredictions/blob/master/modelVersions/Preprocessing.ipynb\" target=\"_parent\"><img src=\"https://colab.research.google.com/assets/colab-badge.svg\" alt=\"Open In Colab\"/></a>"
      ]
    },
    {
      "cell_type": "markdown",
      "metadata": {
        "id": "jT47SLkWOSat",
        "colab_type": "text"
      },
      "source": [
        "# Preprocessing\n",
        "After v1.0 of stock pred i decided that simple multiple regression on historical stock data was insufficient as the stock market being such a volatile enviorment may drastically change in a day irrespective of the previous conditions. Hence, we need something more sophisticated to mimic a real world scenario. So, I have decided to use NLP(Natural Language Processing) to do sentiment analysis of news headlines and then correlate that data to our previous regression model to give it a greater edge."
      ]
    },
    {
      "cell_type": "code",
      "metadata": {
        "id": "xFwCCg0ByUI4",
        "colab_type": "code",
        "colab": {
          "base_uri": "https://localhost:8080/",
          "height": 122
        },
        "outputId": "5a3a377b-eb20-4194-b0b0-0cc9cac29c3b"
      },
      "source": [
        "from google.colab import drive\n",
        "drive.mount('/content/drive')"
      ],
      "execution_count": 6,
      "outputs": [
        {
          "output_type": "stream",
          "text": [
            "Go to this URL in a browser: https://accounts.google.com/o/oauth2/auth?client_id=947318989803-6bn6qk8qdgf4n4g3pfee6491hc0brc4i.apps.googleusercontent.com&redirect_uri=urn%3aietf%3awg%3aoauth%3a2.0%3aoob&response_type=code&scope=email%20https%3a%2f%2fwww.googleapis.com%2fauth%2fdocs.test%20https%3a%2f%2fwww.googleapis.com%2fauth%2fdrive%20https%3a%2f%2fwww.googleapis.com%2fauth%2fdrive.photos.readonly%20https%3a%2f%2fwww.googleapis.com%2fauth%2fpeopleapi.readonly\n",
            "\n",
            "Enter your authorization code:\n",
            "··········\n",
            "Mounted at /content/drive\n"
          ],
          "name": "stdout"
        }
      ]
    },
    {
      "cell_type": "code",
      "metadata": {
        "id": "5lPz-6t6OJe4",
        "colab_type": "code",
        "colab": {}
      },
      "source": [
        "import csv\n",
        "import sys"
      ],
      "execution_count": 5,
      "outputs": []
    },
    {
      "cell_type": "code",
      "metadata": {
        "id": "W_xcjZaHUKex",
        "colab_type": "code",
        "colab": {}
      },
      "source": [
        "rel_name='Reliance '\n",
        "csv_file=csv.reader(open('/content/drive/My Drive/india-news-headlines.csv',\"rt\"),delimiter=',')\n",
        "i=0\n",
        "df=[]\n",
        "col_names=['Date','Headlines']\n",
        "for row in csv_file:\n",
        "  dt=[]\n",
        "  if (rel_name in row[2]) or (rel_name.upper() in row[2]) or (rel_name.lower() in row[2]):\n",
        "    dt.append(row[0])\n",
        "    dt.append(row[2])\n",
        "    if dt not in df:\n",
        "      df.append(dt)"
      ],
      "execution_count": 7,
      "outputs": []
    },
    {
      "cell_type": "code",
      "metadata": {
        "id": "XbbZDwXpaYod",
        "colab_type": "code",
        "colab": {
          "base_uri": "https://localhost:8080/",
          "height": 34
        },
        "outputId": "ed7ff2ee-1d1a-4a5e-b981-a165ce62f613"
      },
      "source": [
        "print(len(df))"
      ],
      "execution_count": null,
      "outputs": [
        {
          "output_type": "stream",
          "text": [
            "1709\n"
          ],
          "name": "stdout"
        }
      ]
    },
    {
      "cell_type": "markdown",
      "metadata": {
        "id": "M0RV5YO6caPj",
        "colab_type": "text"
      },
      "source": [
        "So, after removing the headline category we get the headline date and text which is then added to a list 'dt'. We then check this dt in dx for matching values,i.e repetition of headlines which is unwanted for our model. After removing healine category and repeated headlines we append these to 'df' to get a list of lists containing 1709 examples. Now we will use our previous dataset of historical stock price data to obtain the difference in stock price of the day on which the headline occured and the previous day\n",
        "\n",
        "\n",
        "> I am using the previous day and not the next day as in this project to remove ambiguity of timing I am considering the headlines to be out at around the same time as the daily newspaper which is around 7:30-8:00 am (in Mumbai) and the NSE opens at 9:15 am. Hence the investors will have read the headline and their decisions will affect the share on the day of the headline and not the next.\n",
        "\n",
        "\n",
        "I will add a '1' for increase in share price and a '0' for decrease in share price\n",
        "\n"
      ]
    },
    {
      "cell_type": "code",
      "metadata": {
        "id": "Os7VMLGreL-G",
        "colab_type": "code",
        "colab": {}
      },
      "source": [
        "rel_data=csv.reader(open('/content/drive/My Drive/RELIANCE.csv','rt'),delimiter=',')\n",
        "dx=[]\n",
        "for row in rel_data:\n",
        "  di=[]\n",
        "  row[0]=row[0].replace('-','')\n",
        "  di.append(row[0])\n",
        "  di.append(row[3])\n",
        "  di.append(row[4])\n",
        "  dx.append(di)"
      ],
      "execution_count": null,
      "outputs": []
    },
    {
      "cell_type": "code",
      "metadata": {
        "id": "4nMFpqSL9c2p",
        "colab_type": "code",
        "colab": {}
      },
      "source": [
        "dx.pop(0)\n",
        "print(dx)"
      ],
      "execution_count": null,
      "outputs": []
    },
    {
      "cell_type": "code",
      "metadata": {
        "id": "m5jOBcS7-FVS",
        "colab_type": "code",
        "colab": {}
      },
      "source": [
        "rel_data=csv.reader(open('/content/drive/My Drive/RELIANCE.csv','rt'),delimiter=',')\n",
        "tar=[]\n",
        "for row in rel_data:\n",
        "  tart=[]\n",
        "  row[0]=row[0].replace('-','')\n",
        "  tart.append(row[0])\n",
        "  tart.append(row[5])\n",
        "  tar.append(tart)"
      ],
      "execution_count": 8,
      "outputs": []
    },
    {
      "cell_type": "code",
      "metadata": {
        "id": "wqK0fZZm-Q_m",
        "colab_type": "code",
        "colab": {}
      },
      "source": [
        "tar.pop(0)\n",
        "print(tar)"
      ],
      "execution_count": null,
      "outputs": []
    },
    {
      "cell_type": "markdown",
      "metadata": {
        "id": "UPqJEX1rxA1u",
        "colab_type": "text"
      },
      "source": [
        "I am also assuming that any headlines not having Reliance or for that matter any company 'x' in the headline doesn't affect the share prices which is obviously not true. As one of my favourite author Yuval Noah Harari said that the stock market is most complex machine humanity has ever created even a small change somewhere could produce unprecedented changes in the market.\n",
        "So there could be potentially infinite factors affecting the stock market and the shares that we are intrested in. So, for the sake of my sanity I am restricting myself to just the headlines having the company 'x' in the headline."
      ]
    },
    {
      "cell_type": "code",
      "metadata": {
        "id": "cq5avclw-WFG",
        "colab_type": "code",
        "colab": {}
      },
      "source": [
        "j=[]\n",
        "for x in df:\n",
        "  for i in tar:\n",
        "    if(x[0]==i[0]):\n",
        "      \n",
        "      if(j[1]>i[1]):\n",
        "        x.append(0)\n",
        "      else:\n",
        "        x.append(1)\n",
        "    j=i"
      ],
      "execution_count": 10,
      "outputs": []
    },
    {
      "cell_type": "code",
      "metadata": {
        "id": "cFrEqOW-_Qo-",
        "colab_type": "code",
        "colab": {}
      },
      "source": [
        "for x in df:\n",
        "  print(x)"
      ],
      "execution_count": null,
      "outputs": []
    },
    {
      "cell_type": "markdown",
      "metadata": {
        "id": "vp0cDhwvALvm",
        "colab_type": "text"
      },
      "source": [
        "So I have obtained the nessecary data by doing a bit of merging and manipulation of datasets. I combined the share prices dataset with the headlines dataset by comparing the dates of the headlines with the dates of the share prices and not the other way round as the headlines are sparser. After that I compared the previous day's price and the next day's price to obtain a net increase or decrease signified by 1 or 0\n",
        "\n",
        "> 1 signifies an increase in the high whereas 0 signifies a decrease. Hence we have obtained the positive or negetive labels for our company\n",
        "\n",
        "*Note: I can perhaps add healines from major competitors of Reliance in the fray and then check the share prices of our company. This will reduce generilizability of the preprocessing steps but may result in increased accuracy*\n",
        "\n"
      ]
    },
    {
      "cell_type": "code",
      "metadata": {
        "id": "lkMLhEwS0XV2",
        "colab_type": "code",
        "colab": {}
      },
      "source": [
        "for i in df:\n",
        "  if(len(i)==2):\n",
        "    df.remove(i)"
      ],
      "execution_count": 12,
      "outputs": []
    },
    {
      "cell_type": "code",
      "metadata": {
        "id": "IvjHdqwv2QIM",
        "colab_type": "code",
        "colab": {}
      },
      "source": [
        "for i in df:\n",
        "  if (len(i)==2):\n",
        "    print(i)"
      ],
      "execution_count": null,
      "outputs": []
    },
    {
      "cell_type": "code",
      "metadata": {
        "id": "qxnceUQuBUkP",
        "colab_type": "code",
        "colab": {}
      },
      "source": [
        "import matplotlib as plt\n",
        "wc={}\n",
        "for x in df:\n",
        "  for i in x[1].split(' '):\n",
        "    if i not in wc:\n",
        "      wc[i]=1\n",
        "    else:\n",
        "      wc[i]=wc[i]+1"
      ],
      "execution_count": 14,
      "outputs": []
    },
    {
      "cell_type": "markdown",
      "metadata": {
        "id": "IpR3GEoJ4cDi",
        "colab_type": "text"
      },
      "source": [
        "Now, I hav created a dictionary contaning all the words and the frequency with which they occur in our healines as we can see Reliance occurs the maximum of 1203 times however it may be eliminated as it all headlines will definetly contain the term reliance hence making it overall redundant."
      ]
    },
    {
      "cell_type": "code",
      "metadata": {
        "id": "NfEw90Qh4bq2",
        "colab_type": "code",
        "colab": {}
      },
      "source": [
        "del wc['Reliance']\n",
        "print(wc)"
      ],
      "execution_count": null,
      "outputs": []
    },
    {
      "cell_type": "code",
      "metadata": {
        "id": "LlvNg4-E5Hk8",
        "colab_type": "code",
        "colab": {}
      },
      "source": [
        "sorted_wc=sorted(wc.items(), key=lambda x: x[1], reverse=True)\n",
        "print(sorted_wc)"
      ],
      "execution_count": null,
      "outputs": []
    },
    {
      "cell_type": "code",
      "metadata": {
        "id": "S5c1Tfzt66o-",
        "colab_type": "code",
        "colab": {
          "base_uri": "https://localhost:8080/",
          "height": 406
        },
        "outputId": "98e9492b-3467-438d-ca77-3b8f43eea457"
      },
      "source": [
        "x, y = zip(*sorted_wc)\n",
        "fig=plt.pyplot.figure(figsize=(20,8))\n",
        "axes=fig.add_axes([0.1,0.1,0.8,0.8])\n",
        "axes.scatter(x[1:21],y[1:21])\n",
        "fig.show()"
      ],
      "execution_count": 16,
      "outputs": [
        {
          "output_type": "display_data",
          "data": {
            "image/png": "[encoded data removed]",
            "text/plain": [
              "<Figure size 1440x576 with 1 Axes>"
            ]
          },
          "metadata": {
            "tags": [],
            "needs_background": "light"
          }
        }
      ]
    },
    {
      "cell_type": "markdown",
      "metadata": {
        "id": "ZFOOpNSd8-Pj",
        "colab_type": "text"
      },
      "source": [
        "So, words such as in, for, on etc take up most of the count. Words like these are important for grammar but pretty usless in NLP as they give contextual information and are only present to provide grammatical correctness to our sentences. Hence I need to remove these words which convey almost 0 contextual information."
      ]
    },
    {
      "cell_type": "code",
      "metadata": {
        "id": "WhADf8W99bLz",
        "colab_type": "code",
        "colab": {
          "base_uri": "https://localhost:8080/",
          "height": 68
        },
        "outputId": "36fdac85-a8b3-4c71-984b-e79a924abff1"
      },
      "source": [
        "import nltk\n",
        "nltk.download('stopwords')\n"
      ],
      "execution_count": 17,
      "outputs": [
        {
          "output_type": "stream",
          "text": [
            "[nltk_data] Downloading package stopwords to /root/nltk_data...\n",
            "[nltk_data]   Unzipping corpora/stopwords.zip.\n"
          ],
          "name": "stdout"
        },
        {
          "output_type": "execute_result",
          "data": {
            "text/plain": [
              "True"
            ]
          },
          "metadata": {
            "tags": []
          },
          "execution_count": 17
        }
      ]
    },
    {
      "cell_type": "code",
      "metadata": {
        "id": "eyMp2PWF_Xn8",
        "colab_type": "code",
        "colab": {
          "base_uri": "https://localhost:8080/",
          "height": 51
        },
        "outputId": "5c90e187-d4ad-4396-de85-9adf79039bd4"
      },
      "source": [
        "nltk.download('punkt')\n",
        "from nltk.corpus import stopwords"
      ],
      "execution_count": 18,
      "outputs": [
        {
          "output_type": "stream",
          "text": [
            "[nltk_data] Downloading package punkt to /root/nltk_data...\n",
            "[nltk_data]   Unzipping tokenizers/punkt.zip.\n"
          ],
          "name": "stdout"
        }
      ]
    },
    {
      "cell_type": "code",
      "metadata": {
        "id": "OVtvPzDo_Hry",
        "colab_type": "code",
        "colab": {}
      },
      "source": [
        "all_stopwords = stopwords.words('english')\n",
        "all_stopwords.append('Reliance')\n",
        "for x in df:\n",
        "  txt_tokens=nltk.tokenize.word_tokenize(x[1])\n",
        "  tokens_without_sw = [word for word in txt_tokens if not word in all_stopwords]\n",
        "  x[1]=tokens_without_sw\n",
        "print(df)"
      ],
      "execution_count": null,
      "outputs": []
    },
    {
      "cell_type": "markdown",
      "metadata": {
        "id": "AATDmYwjB5OI",
        "colab_type": "text"
      },
      "source": [
        "Now, I have removed the stop words now let's plot the data after removal of stop words and company name"
      ]
    },
    {
      "cell_type": "code",
      "metadata": {
        "id": "8TP0Qe4rB4bz",
        "colab_type": "code",
        "colab": {}
      },
      "source": [
        "import matplotlib.pyplot as plt\n",
        "wc={}\n",
        "for x in df:\n",
        "  for i in x[1]:\n",
        "    if i not in wc:\n",
        "      wc[i]=1\n",
        "    else:\n",
        "      wc[i]=wc[i]+1\n",
        "print(wc)"
      ],
      "execution_count": null,
      "outputs": []
    },
    {
      "cell_type": "code",
      "metadata": {
        "id": "as9hm8xxCR6h",
        "colab_type": "code",
        "colab": {
          "base_uri": "https://localhost:8080/",
          "height": 406
        },
        "outputId": "4cd03cb2-5154-4841-f9dc-55cabb47bd31"
      },
      "source": [
        "sorted_wc=sorted(wc.items(), key=lambda x: x[1], reverse=True)\n",
        "x, y = zip(*sorted_wc)\n",
        "fig=plt.figure(figsize=(20,8))\n",
        "axes=fig.add_axes([0.1,0.1,0.8,0.8])\n",
        "axes.scatter(x[1:21],y[1:21])\n",
        "fig.show()"
      ],
      "execution_count": 21,
      "outputs": [
        {
          "output_type": "display_data",
          "data": {
            "image/png": "[encoded data removed]",
            "text/plain": [
              "<Figure size 1440x576 with 1 Axes>"
            ]
          },
          "metadata": {
            "tags": [],
            "needs_background": "light"
          }
        }
      ]
    },
    {
      "cell_type": "markdown",
      "metadata": {
        "id": "BHf0DFAHCfsU",
        "colab_type": "text"
      },
      "source": [
        "So as seen above symbols and numbers are occupying the most part of the data so I need to clear these out"
      ]
    },
    {
      "cell_type": "code",
      "metadata": {
        "id": "a1TxdKXrCnDA",
        "colab_type": "code",
        "colab": {}
      },
      "source": [
        "lis=['\\'','\\'s',':','%','$','000',';',',','Rs']\n",
        "for x in df:\n",
        "  for i in x[1]:\n",
        "    if (any(y in i for y in lis) or (len(i)<=1)):\n",
        "      x[1].remove(i)"
      ],
      "execution_count": 22,
      "outputs": []
    },
    {
      "cell_type": "code",
      "metadata": {
        "id": "5hEXFAa8EGIk",
        "colab_type": "code",
        "colab": {
          "base_uri": "https://localhost:8080/",
          "height": 406
        },
        "outputId": "058dea71-ad6d-44c9-a654-ad6c5d5eb1b7"
      },
      "source": [
        "wc={}\n",
        "for x in df:\n",
        "  for i in x[1]:\n",
        "    if i not in wc:\n",
        "      wc[i]=1\n",
        "    else:\n",
        "      wc[i]=wc[i]+1\n",
        "sorted_wc=sorted(wc.items(), key=lambda x: x[1], reverse=True)\n",
        "x, y = zip(*sorted_wc)\n",
        "fig=plt.figure(figsize=(20,8))\n",
        "axes=fig.add_axes([0.1,0.1,0.8,0.8])\n",
        "axes.scatter(x[1:21],y[1:21])\n",
        "fig.show()"
      ],
      "execution_count": 23,
      "outputs": [
        {
          "output_type": "display_data",
          "data": {
            "image/png": "[encoded data removed]",
            "text/plain": [
              "<Figure size 1440x576 with 1 Axes>"
            ]
          },
          "metadata": {
            "tags": [],
            "needs_background": "light"
          }
        }
      ]
    },
    {
      "cell_type": "code",
      "metadata": {
        "id": "XNLFE1DxEysX",
        "colab_type": "code",
        "colab": {}
      },
      "source": [
        "with open('pre_processed.csv', 'w', newline='') as f:\n",
        "    writer = csv.writer(f)\n",
        "    writer.writerows(df)"
      ],
      "execution_count": null,
      "outputs": []
    },
    {
      "cell_type": "markdown",
      "metadata": {
        "id": "qCvM3pk_Fvz6",
        "colab_type": "text"
      },
      "source": [
        "**CHECKPOINT!!** \n",
        "\n",
        "I think all the required preprocessing is done now all that remains is to build a neural network and let it do it's work\n",
        "\n",
        "\n"
      ]
    }
  ]
}